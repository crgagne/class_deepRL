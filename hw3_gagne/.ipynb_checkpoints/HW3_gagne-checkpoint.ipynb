{
 "cells": [
  {
   "cell_type": "code",
   "execution_count": 1,
   "metadata": {
    "collapsed": true
   },
   "outputs": [],
   "source": [
    "import numpy as np\n",
    "import matplotlib.pyplot as plt\n",
    "import pandas as pd\n",
    "import seaborn as sns\n",
    "%matplotlib inline\n"
   ]
  },
  {
   "cell_type": "markdown",
   "metadata": {},
   "source": [
    "# Question 1: basic Q-learning performance.\n",
    "\n",
    "### Script: \n",
    "- The code for running the DQN can by found in dqn.py\n",
    "\n",
    "### Computing Resource: \n",
    "- This result was obtained on AWS... with \n",
    "\n",
    "### Implentation: \n",
    "- Used Huber loss instead of mean square error\n",
    "- Also used tf.stop_gradient, though I'm not sure that was necessary. \n",
    "\n",
    "### Results: \n",
    "- My average return did not increase as fast as the reference solution by 1m steps, but that could have been my random seed. However, it did get to optimal performance by 3.5m. \n"
   ]
  },
  {
   "cell_type": "code",
   "execution_count": 5,
   "metadata": {
    "collapsed": true
   },
   "outputs": [],
   "source": [
    "date = '2017-09-30-23:02'"
   ]
  },
  {
   "cell_type": "code",
   "execution_count": 8,
   "metadata": {
    "collapsed": true
   },
   "outputs": [],
   "source": [
    "time_steps = np.loadtxt('results/time_steps'+date+'.txt')\n",
    "mean_returns = np.loadtxt('results/mean_episode_rewards'+date+'.txt')\n",
    "best_returns = np.loadtxt('results/best_mean_episode_rewards'+date+'.txt')\n",
    "df=pd.DataFrame({'time_steps':time_steps,'mean_returns':mean_returns,'best_returns':best_returns})\n",
    "#df.head()"
   ]
  },
  {
   "cell_type": "code",
   "execution_count": 68,
   "metadata": {
    "collapsed": true
   },
   "outputs": [],
   "source": [
    "df = df.set_index('time_steps',drop=True)"
   ]
  },
  {
   "cell_type": "code",
   "execution_count": 69,
   "metadata": {
    "scrolled": false
   },
   "outputs": [
    {
     "data": {
      "image/png": "[encoded data removed]",
      "text/plain": [
       "<matplotlib.figure.Figure at 0x120021908>"
      ]
     },
     "metadata": {},
     "output_type": "display_data"
    }
   ],
   "source": [
    "sns.set_style('white')\n",
    "\n",
    "df.plot(linewidth=1,figsize=(8,3))\n",
    "\n",
    "plt.title('DQN on Pong (Default Hyper Parameters)')\n",
    "plt.axhline(y=20,linestyle='--',color='k',linewidth=1)\n",
    "sns.despine()\n",
    "plt.ylabel('returns')\n",
    "plt.ticklabel_format(style='sci', axis='x', scilimits=(0,0))\n",
    "plt.xlabel('steps')\n",
    "\n",
    "plt.savefig('figs/Q1.png',dpi=300)"
   ]
  },
  {
   "cell_type": "markdown",
   "metadata": {},
   "source": [
    "# Question 2: experimenting with hyperparameters.\n",
    "\n",
    "- For this question. "
   ]
  },
  {
   "cell_type": "code",
   "execution_count": 10,
   "metadata": {},
   "outputs": [],
   "source": [
    "from dqn_utils import *"
   ]
  },
  {
   "cell_type": "code",
   "execution_count": 38,
   "metadata": {},
   "outputs": [
    {
     "data": {
      "text/plain": [
       "10000000.0"
      ]
     },
     "execution_count": 38,
     "metadata": {},
     "output_type": "execute_result"
    }
   ],
   "source": [
    "benchmark = gym.benchmark_spec('Atari40M')\n",
    "# Change the index to select a different game.\n",
    "task = benchmark.tasks[3]\n",
    "task.max_timesteps\n",
    "# rough estimate \n",
    "num_iterations = float(task.max_timesteps) / 4.0\n",
    "num_iterations"
   ]
  },
  {
   "cell_type": "code",
   "execution_count": null,
   "metadata": {
    "collapsed": true
   },
   "outputs": [],
   "source": [
    "ts= np.arange(7e6)"
   ]
  },
  {
   "cell_type": "code",
   "execution_count": 35,
   "metadata": {
    "collapsed": true
   },
   "outputs": [],
   "source": [
    "# used exploration schedule \n",
    "exploration_schedule = PiecewiseSchedule(\n",
    "        [\n",
    "            (0, 1.0),\n",
    "            (1e6, 0.1),\n",
    "            (num_iterations / 2, 0.01),\n",
    "        ], outside_value=0.01\n",
    "    )\n",
    "es1 = [exploration_schedule.value(t) for t in ts]"
   ]
  },
  {
   "cell_type": "code",
   "execution_count": 37,
   "metadata": {},
   "outputs": [],
   "source": [
    "#  \n",
    "exploration_schedule = PiecewiseSchedule(\n",
    "        [\n",
    "            (0, 1.0),\n",
    "            (2e6, 0.1),\n",
    "            (num_iterations / 2, 0.01),\n",
    "        ], outside_value=0.01\n",
    "    )\n",
    "es2 = [exploration_schedule.value(t) for t in ts]"
   ]
  },
  {
   "cell_type": "code",
   "execution_count": 41,
   "metadata": {
    "collapsed": true
   },
   "outputs": [],
   "source": [
    "# \n",
    "exploration_schedule = PiecewiseSchedule(\n",
    "        [\n",
    "            (0, 1.0),\n",
    "            (5e5, 0.1),\n",
    "            (num_iterations / 2, 0.01),\n",
    "        ], outside_value=0.01\n",
    "    )\n",
    "es3 = [exploration_schedule.value(t) for t in ts]"
   ]
  },
  {
   "cell_type": "code",
   "execution_count": 43,
   "metadata": {
    "collapsed": true
   },
   "outputs": [],
   "source": [
    "# \n",
    "exploration_schedule = PiecewiseSchedule(\n",
    "        [\n",
    "            (0, 1.0),\n",
    "            (1e6, 0.01),\n",
    "            (num_iterations / 2, 0.01),\n",
    "        ], outside_value=0.01\n",
    "    )\n",
    "es4 = [exploration_schedule.value(t) for t in ts]"
   ]
  },
  {
   "cell_type": "code",
   "execution_count": 44,
   "metadata": {},
   "outputs": [
    {
     "data": {
      "image/png": "[encoded data removed]",
      "text/plain": [
       "<matplotlib.figure.Figure at 0x125ea4198>"
      ]
     },
     "metadata": {},
     "output_type": "display_data"
    }
   ],
   "source": [
    "plt.plot(ts,es)\n",
    "plt.plot(ts,es2)\n",
    "plt.plot(ts,es3)\n",
    "plt.plot(ts,es4)\n",
    "plt.ticklabel_format(style='sci', axis='x', scilimits=(0,0))\n"
   ]
  },
  {
   "cell_type": "code",
   "execution_count": 71,
   "metadata": {},
   "outputs": [
    {
     "name": "stdout",
     "output_type": "stream",
     "text": [
      "[NbConvertApp] Converting notebook HW3_gagne.ipynb to pdf\n",
      "[NbConvertApp] Support files will be in HW3_gagne_files/\n",
      "[NbConvertApp] Making directory HW3_gagne_files\n",
      "[NbConvertApp] Writing 16827 bytes to notebook.tex\n",
      "[NbConvertApp] Building PDF\n",
      "[NbConvertApp] Running xelatex 3 times: ['xelatex', 'notebook.tex']\n",
      "[NbConvertApp] Running bibtex 1 time: ['bibtex', 'notebook']\n",
      "[NbConvertApp] WARNING | bibtex had problems, most likely because there were no citations\n",
      "[NbConvertApp] PDF successfully created\n",
      "[NbConvertApp] Writing 31767 bytes to HW3_gagne.pdf\n"
     ]
    }
   ],
   "source": [
    "!jupyter nbconvert --to pdf --template pdf_template_nocode.tplx HW3_gagne.ipynb"
   ]
  },
  {
   "cell_type": "code",
   "execution_count": null,
   "metadata": {
    "collapsed": true
   },
   "outputs": [],
   "source": []
  }
 ],
 "metadata": {
  "kernelspec": {
   "display_name": "Python 3",
   "language": "python",
   "name": "python3"
  },
  "language_info": {
   "codemirror_mode": {
    "name": "ipython",
    "version": 3
   },
   "file_extension": ".py",
   "mimetype": "text/x-python",
   "name": "python",
   "nbconvert_exporter": "python",
   "pygments_lexer": "ipython3",
   "version": "3.5.4"
  }
 },
 "nbformat": 4,
 "nbformat_minor": 2
}
