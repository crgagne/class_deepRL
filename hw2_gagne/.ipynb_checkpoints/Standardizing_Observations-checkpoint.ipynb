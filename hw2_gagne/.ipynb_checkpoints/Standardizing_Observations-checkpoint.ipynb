{
 "cells": [
  {
   "cell_type": "markdown",
   "metadata": {},
   "source": [
    "# Generating Std and Mean for Inputs. \n"
   ]
  },
  {
   "cell_type": "code",
   "execution_count": 1,
   "metadata": {
    "collapsed": true
   },
   "outputs": [],
   "source": [
    "import gym\n",
    "import numpy as np\n",
    "import matplotlib.pyplot as plt\n",
    "%matplotlib inline"
   ]
  },
  {
   "cell_type": "code",
   "execution_count": 19,
   "metadata": {},
   "outputs": [
    {
     "name": "stderr",
     "output_type": "stream",
     "text": [
      "[2017-09-19 23:05:25,304] Making new env: HalfCheetah-v1\n"
     ]
    },
    {
     "name": "stdout",
     "output_type": "stream",
     "text": [
      "HalfCheetah-v1\n"
     ]
    }
   ],
   "source": [
    "# Make the gym environment\n",
    "env_name = 'CartPole-v0'\n",
    "#env_name = 'InvertedPendulum-v1'\n",
    "env_name = 'HalfCheetah-v1'\n",
    "env = gym.make(env_name)\n",
    "max_path_length = env.spec.max_episode_steps\n",
    "min_timesteps_per_batch=100\n",
    "n_iter = 100\n",
    "total_timesteps = 0\n",
    "animate = False\n",
    "print(env_name)"
   ]
  },
  {
   "cell_type": "code",
   "execution_count": 20,
   "metadata": {},
   "outputs": [
    {
     "data": {
      "text/plain": [
       "False"
      ]
     },
     "execution_count": 20,
     "metadata": {},
     "output_type": "execute_result"
    }
   ],
   "source": [
    "discrete = isinstance(env.action_space, gym.spaces.Discrete)\n",
    "discrete"
   ]
  },
  {
   "cell_type": "code",
   "execution_count": 21,
   "metadata": {
    "collapsed": true
   },
   "outputs": [],
   "source": [
    "#env.action_space.n"
   ]
  },
  {
   "cell_type": "code",
   "execution_count": 22,
   "metadata": {
    "collapsed": true
   },
   "outputs": [],
   "source": [
    "def pathlength(path):\n",
    "    return len(path[\"reward\"])"
   ]
  },
  {
   "cell_type": "code",
   "execution_count": 23,
   "metadata": {
    "scrolled": true
   },
   "outputs": [
    {
     "name": "stdout",
     "output_type": "stream",
     "text": [
      "0\n",
      "1\n",
      "2\n",
      "3\n",
      "4\n",
      "5\n",
      "6\n",
      "7\n",
      "8\n",
      "9\n",
      "10\n",
      "11\n",
      "12\n",
      "13\n",
      "14\n",
      "15\n",
      "16\n",
      "17\n",
      "18\n",
      "19\n",
      "20\n",
      "21\n",
      "22\n",
      "23\n",
      "24\n",
      "25\n",
      "26\n",
      "27\n",
      "28\n",
      "29\n",
      "30\n",
      "31\n",
      "32\n",
      "33\n",
      "34\n",
      "35\n",
      "36\n",
      "37\n",
      "38\n",
      "39\n",
      "40\n",
      "41\n",
      "42\n",
      "43\n",
      "44\n",
      "45\n",
      "46\n",
      "47\n",
      "48\n",
      "49\n",
      "50\n",
      "51\n",
      "52\n",
      "53\n",
      "54\n",
      "55\n",
      "56\n",
      "57\n",
      "58\n",
      "59\n",
      "60\n",
      "61\n",
      "62\n",
      "63\n",
      "64\n",
      "65\n",
      "66\n",
      "67\n",
      "68\n",
      "69\n",
      "70\n",
      "71\n",
      "72\n",
      "73\n",
      "74\n",
      "75\n",
      "76\n",
      "77\n",
      "78\n",
      "79\n",
      "80\n",
      "81\n",
      "82\n",
      "83\n",
      "84\n",
      "85\n",
      "86\n",
      "87\n",
      "88\n",
      "89\n",
      "90\n",
      "91\n",
      "92\n",
      "93\n",
      "94\n",
      "95\n",
      "96\n",
      "97\n",
      "98\n",
      "99\n"
     ]
    }
   ],
   "source": [
    "for itr in range(n_iter):\n",
    "    print(itr)\n",
    "\n",
    "    # Collect paths until we have enough timesteps\n",
    "    timesteps_this_batch = 0\n",
    "    paths = []\n",
    "    while True:\n",
    "        ob = env.reset()\n",
    "        obs, acs, rewards = [], [], []\n",
    "        animate_this_episode=(len(paths)==0 and (itr % 10 == 0) and animate)\n",
    "        steps = 0\n",
    "        while True:\n",
    "            if animate_this_episode:\n",
    "                env.render()\n",
    "                time.sleep(0.05)\n",
    "            obs.append(ob)\n",
    "            ac = env.action_space.sample()\n",
    "            acs.append(ac)\n",
    "            ob, rew, done, _ = env.step(ac)\n",
    "            rewards.append(rew)\n",
    "            steps += 1\n",
    "            if done or steps > max_path_length:\n",
    "                env.render(close=True)\n",
    "                break\n",
    "        path = {\"observation\" : np.array(obs),\n",
    "                \"reward\" : np.array(rewards),\n",
    "                \"action\" : np.array(acs)}\n",
    "        paths.append(path)\n",
    "        timesteps_this_batch += pathlength(path)\n",
    "        if timesteps_this_batch > min_timesteps_per_batch:\n",
    "            break\n",
    "    total_timesteps += timesteps_this_batch\n",
    "\n",
    "# Build arrays for observation, action for the policy gradient update by concatenating\n",
    "# across paths\n",
    "ob_no = np.concatenate([path[\"observation\"] for path in paths])\n",
    "ac_na = np.concatenate([path[\"action\"] for path in paths])\n"
   ]
  },
  {
   "cell_type": "code",
   "execution_count": 24,
   "metadata": {},
   "outputs": [
    {
     "name": "stdout",
     "output_type": "stream",
     "text": [
      "(1000, 17)\n",
      "(1000, 6)\n"
     ]
    }
   ],
   "source": [
    "print(np.shape(ob_no))\n",
    "print(np.shape(ac_na))"
   ]
  },
  {
   "cell_type": "code",
   "execution_count": 25,
   "metadata": {
    "collapsed": true
   },
   "outputs": [],
   "source": [
    "#ac_na"
   ]
  },
  {
   "cell_type": "code",
   "execution_count": 26,
   "metadata": {},
   "outputs": [
    {
     "name": "stdout",
     "output_type": "stream",
     "text": [
      "[-0.08897979  0.06045691  0.00606582  0.03286684 -0.00546835  0.00853905\n",
      " -0.07757916 -0.04827853 -0.1091644  -0.01696296 -0.00120514  0.01842537\n",
      " -0.03331179  0.0185279  -0.00722016  0.01098511 -0.00469955]\n",
      "[ 0.07056412  0.12045606  0.25450298  0.27114851  0.26616139  0.32092694\n",
      "  0.28055816  0.29137291  0.76916787  0.76194472  1.58065688  5.70691632\n",
      "  6.77691315  7.01815167  6.30715576  6.38157076  6.25814326]\n"
     ]
    }
   ],
   "source": [
    "mean_obs = np.mean(ob_no,axis=0)\n",
    "std_obs = np.std(ob_no,axis=0)\n",
    "print(mean_obs)\n",
    "print(std_obs)"
   ]
  },
  {
   "cell_type": "code",
   "execution_count": 27,
   "metadata": {
    "collapsed": true
   },
   "outputs": [],
   "source": [
    "np.save('mean_obs'+env_name+'.npy',mean_obs)\n",
    "np.save('std_obs'+env_name+'.npy',std_obs)"
   ]
  },
  {
   "cell_type": "code",
   "execution_count": 28,
   "metadata": {},
   "outputs": [
    {
     "name": "stdout",
     "output_type": "stream",
     "text": [
      "[-0.08897979  0.06045691  0.00606582  0.03286684 -0.00546835  0.00853905\n",
      " -0.07757916 -0.04827853 -0.1091644  -0.01696296 -0.00120514  0.01842537\n",
      " -0.03331179  0.0185279  -0.00722016  0.01098511 -0.00469955]\n",
      "[ 0.07056412  0.12045606  0.25450298  0.27114851  0.26616139  0.32092694\n",
      "  0.28055816  0.29137291  0.76916787  0.76194472  1.58065688  5.70691632\n",
      "  6.77691315  7.01815167  6.30715576  6.38157076  6.25814326]\n"
     ]
    }
   ],
   "source": [
    "mean_obs = np.load('mean_obs'+env_name+'.npy')\n",
    "std_obs = np.load('std_obs'+env_name+'.npy')\n",
    "print(mean_obs)\n",
    "print(std_obs)\n"
   ]
  },
  {
   "cell_type": "code",
   "execution_count": 29,
   "metadata": {
    "collapsed": true
   },
   "outputs": [],
   "source": [
    "obs_normed = (ob_no.copy()-mean_obs)/std_obs\n"
   ]
  },
  {
   "cell_type": "code",
   "execution_count": 30,
   "metadata": {},
   "outputs": [
    {
     "name": "stdout",
     "output_type": "stream",
     "text": [
      "mean [  8.45767900e-16   2.50244270e-16  -2.02060590e-17  -1.06581410e-17\n",
      "  -1.29063427e-17   4.32986980e-18   1.18571819e-16  -6.58362254e-17\n",
      "   4.35207426e-17   5.32907052e-18   3.59712260e-17  -2.13162821e-17\n",
      "  -9.10382880e-18   3.31401573e-17  -9.04831765e-18   1.18793864e-17\n",
      "  -8.88178420e-19]\n",
      "std [ 1.  1.  1.  1.  1.  1.  1.  1.  1.  1.  1.  1.  1.  1.  1.  1.  1.]\n"
     ]
    },
    {
     "data": {
      "text/plain": [
       "([array([   0.,    0.,    5.,   45.,  132.,  337.,  314.,  118.,   34.,   15.]),\n",
       "  array([   3.,    6.,    4.,   22.,  132.,  331.,  330.,  138.,   26.,    8.]),\n",
       "  array([   0.,    0.,    0.,   41.,  180.,  271.,  309.,  157.,   41.,    1.]),\n",
       "  array([   0.,    0.,    4.,   43.,  162.,  285.,  311.,  154.,   40.,    1.]),\n",
       "  array([   0.,    0.,    0.,    9.,  219.,  288.,  273.,  170.,   37.,    4.]),\n",
       "  array([   0.,    0.,    5.,   46.,  147.,  302.,  297.,  169.,   34.,    0.]),\n",
       "  array([   0.,    0.,    2.,   47.,  147.,  324.,  288.,  147.,   40.,    5.]),\n",
       "  array([   0.,    0.,    0.,   16.,  214.,  283.,  276.,  162.,   49.,    0.]),\n",
       "  array([   0.,    0.,    8.,   36.,  147.,  308.,  306.,  157.,   35.,    3.]),\n",
       "  array([   0.,    0.,    1.,   44.,  160.,  312.,  280.,  152.,   50.,    1.]),\n",
       "  array([   0.,    1.,    5.,   32.,  161.,  322.,  292.,  142.,   41.,    4.]),\n",
       "  array([   0.,    0.,    3.,   42.,  163.,  277.,  320.,  164.,   29.,    2.]),\n",
       "  array([   0.,    0.,    3.,   37.,  164.,  306.,  299.,  149.,   37.,    5.]),\n",
       "  array([   0.,    0.,    2.,   46.,  162.,  274.,  317.,  165.,   34.,    0.]),\n",
       "  array([   0.,    0.,    3.,   38.,  168.,  311.,  292.,  142.,   42.,    4.]),\n",
       "  array([   0.,    0.,    5.,   39.,  155.,  313.,  298.,  142.,   44.,    4.]),\n",
       "  array([   0.,    0.,    1.,   42.,  164.,  302.,  280.,  174.,   37.,    0.])],\n",
       " array([-5.17403017, -4.30898117, -3.44393216, -2.57888316, -1.71383415,\n",
       "        -0.84878515,  0.01626386,  0.88131287,  1.74636187,  2.61141088,\n",
       "         3.47645988]),\n",
       " <a list of 17 Lists of Patches objects>)"
      ]
     },
     "execution_count": 30,
     "metadata": {},
     "output_type": "execute_result"
    },
    {
     "data": {
      "image/png": "[encoded data removed]",
      "text/plain": [
       "<matplotlib.figure.Figure at 0x111f71dd8>"
      ]
     },
     "metadata": {},
     "output_type": "display_data"
    }
   ],
   "source": [
    "print('mean {0}'.format(np.mean(obs_normed,axis=0)))\n",
    "print('std {0}'.format(np.std(obs_normed,axis=0)))\n",
    "plt.hist(obs_normed)"
   ]
  },
  {
   "cell_type": "code",
   "execution_count": 31,
   "metadata": {},
   "outputs": [
    {
     "name": "stdout",
     "output_type": "stream",
     "text": [
      "-304.937924528\n"
     ]
    },
    {
     "data": {
      "text/plain": [
       "(array([ 0.,  0.,  0.,  0.,  0.,  1.,  0.,  0.,  0.,  0.]),\n",
       " array([-305.43792453, -305.33792453, -305.23792453, -305.13792453,\n",
       "        -305.03792453, -304.93792453, -304.83792453, -304.73792453,\n",
       "        -304.63792453, -304.53792453, -304.43792453]),\n",
       " <a list of 10 Patch objects>)"
      ]
     },
     "execution_count": 31,
     "metadata": {},
     "output_type": "execute_result"
    },
    {
     "data": {
      "image/png": "[encoded data removed]",
      "text/plain": [
       "<matplotlib.figure.Figure at 0x111fe3860>"
      ]
     },
     "metadata": {},
     "output_type": "display_data"
    }
   ],
   "source": [
    "rewards_per_ep = [np.sum(path[\"reward\"]) for path in paths]\n",
    "print(np.mean(rewards_per_ep))\n",
    "plt.hist(rewards_per_ep)\n"
   ]
  }
 ],
 "metadata": {
  "kernelspec": {
   "display_name": "Python 3",
   "language": "python",
   "name": "python3"
  },
  "language_info": {
   "codemirror_mode": {
    "name": "ipython",
    "version": 3
   },
   "file_extension": ".py",
   "mimetype": "text/x-python",
   "name": "python",
   "nbconvert_exporter": "python",
   "pygments_lexer": "ipython3",
   "version": "3.6.1"
  }
 },
 "nbformat": 4,
 "nbformat_minor": 2
}
