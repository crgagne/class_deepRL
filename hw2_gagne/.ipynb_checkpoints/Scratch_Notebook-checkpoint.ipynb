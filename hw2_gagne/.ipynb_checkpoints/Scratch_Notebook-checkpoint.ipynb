{
 "cells": [
  {
   "cell_type": "code",
   "execution_count": 3,
   "metadata": {
    "collapsed": true
   },
   "outputs": [],
   "source": [
    "import tensorflow as tf\n",
    "import os\n",
    "import sys\n",
    "import numpy as np"
   ]
  },
  {
   "cell_type": "code",
   "execution_count": 4,
   "metadata": {
    "collapsed": true
   },
   "outputs": [],
   "source": [
    "sys.path.append('/Users/chris/Desktop/class_deepRL/hw2_gagne/')\n",
    "import train_pg\n",
    "from imp import reload\n",
    "reload(train_pg)\n",
    "from train_pg import *\n",
    "\n",
    "\n"
   ]
  },
  {
   "cell_type": "code",
   "execution_count": 7,
   "metadata": {},
   "outputs": [
    {
     "data": {
      "text/plain": [
       "array([ 7.,  6.,  5.,  4.,  2.,  1.])"
      ]
     },
     "execution_count": 7,
     "metadata": {},
     "output_type": "execute_result"
    }
   ],
   "source": [
    "rew = [1,1,1,2,1,1]\n",
    "gamma = 1.0\n",
    "rew_to_go = np.empty(len(rew))\n",
    "for i in range(len(rew)):\n",
    "    tmp_rew_to_go = []\n",
    "    for ii in np.arange(i,len(rew)):\n",
    "        tmp_rew_to_go.append((gamma**(ii-i))*rew[ii])\n",
    "    rew_to_go[i]=np.sum(tmp_rew_to_go)\n",
    "rew_to_go"
   ]
  },
  {
   "cell_type": "markdown",
   "metadata": {},
   "source": [
    "## Testing the n.net"
   ]
  },
  {
   "cell_type": "markdown",
   "metadata": {},
   "source": [
    "- how can I re-run this without it thinking I'm trying to use the same variables. "
   ]
  },
  {
   "cell_type": "code",
   "execution_count": 6,
   "metadata": {
    "collapsed": true
   },
   "outputs": [],
   "source": [
    "X = tf.placeholder(dtype=tf.float32,\n",
    "      shape=[None, 10])\n",
    "y=build_mlp(X,\n",
    "        5,\n",
    "        scope='testscope2',\n",
    "        n_layers=2,\n",
    "        size=64,\n",
    "        activation=tf.tanh,\n",
    "        output_activation=None)"
   ]
  },
  {
   "cell_type": "code",
   "execution_count": 7,
   "metadata": {},
   "outputs": [
    {
     "data": {
      "text/plain": [
       "<tf.Tensor 'testscope2/dense_3/BiasAdd:0' shape=(?, 5) dtype=float32>"
      ]
     },
     "execution_count": 7,
     "metadata": {},
     "output_type": "execute_result"
    }
   ],
   "source": [
    "y"
   ]
  },
  {
   "cell_type": "markdown",
   "metadata": {},
   "source": [
    "## Running Gym"
   ]
  },
  {
   "cell_type": "code",
   "execution_count": 3,
   "metadata": {
    "collapsed": true
   },
   "outputs": [],
   "source": [
    "import gym"
   ]
  },
  {
   "cell_type": "code",
   "execution_count": 6,
   "metadata": {
    "collapsed": true
   },
   "outputs": [],
   "source": [
    "# env = gym.make('CartPole-v0')\n",
    "\n",
    "# ob = env.reset()\n",
    "# obs, acs, rewards = [], [], []\n",
    "\n",
    "# for itr in range(10):\n",
    "\n",
    "#     env.render()\n",
    "#     time.sleep(0.05)\n",
    "#     obs.append(ob)\n",
    "    \n",
    "#     ac = 1\n",
    "#     ob, rew, done, _ = env.step(ac)\n",
    "#     print(done)\n",
    "#     print(ac)\n",
    "\n",
    "# env.render(close=True)\n"
   ]
  },
  {
   "cell_type": "code",
   "execution_count": 49,
   "metadata": {
    "collapsed": true
   },
   "outputs": [],
   "source": [
    "session = tf.InteractiveSession()"
   ]
  },
  {
   "cell_type": "code",
   "execution_count": 50,
   "metadata": {
    "collapsed": true
   },
   "outputs": [],
   "source": [
    "samples = tf.multinomial(tf.log([[0.1, 0.9]]), 200)"
   ]
  },
  {
   "cell_type": "code",
   "execution_count": 51,
   "metadata": {},
   "outputs": [
    {
     "name": "stdout",
     "output_type": "stream",
     "text": [
      "[[1 0 1 1 1 1 1 1 1 1 1 1 1 1 1 1 1 1 1 1 0 1 1 1 1 1 1 1 1 1 1 0 1 1 1 1 1\n",
      "  1 1 0 1 1 1 1 1 1 1 1 1 1 1 1 1 1 1 1 1 1 1 1 1 1 1 1 1 1 1 1 1 1 1 1 1 1\n",
      "  1 1 1 0 1 1 1 1 1 1 1 1 1 1 1 1 1 1 1 0 1 1 1 1 1 1 1 1 1 1 1 1 1 1 1 1 1\n",
      "  1 1 0 1 1 1 1 1 1 1 1 1 1 0 1 1 1 1 1 1 1 1 1 1 1 1 1 1 1 1 1 0 1 1 1 1 1\n",
      "  1 1 1 1 1 1 0 1 1 1 1 1 1 1 1 1 1 1 1 0 1 1 1 1 1 1 1 1 1 1 1 1 1 1 1 1 1\n",
      "  1 1 1 1 1 1 0 0 1 1 1 1 1 1 1]]\n",
      "0.935\n"
     ]
    }
   ],
   "source": [
    "samps = session.run(samples)\n",
    "print(samps)\n",
    "print(samps.mean())"
   ]
  },
  {
   "cell_type": "code",
   "execution_count": 70,
   "metadata": {
    "collapsed": true
   },
   "outputs": [],
   "source": [
    "ac_dim = 1\n",
    "z = tf.random_normal(shape=[100],mean=0.0,stddev=1.0)"
   ]
  },
  {
   "cell_type": "code",
   "execution_count": 71,
   "metadata": {},
   "outputs": [
    {
     "data": {
      "text/plain": [
       "array([ 0.86402774,  0.45860985, -0.57613868,  0.81774151,  0.15620331,\n",
       "       -1.33302486,  0.35689044,  1.43122959,  0.76674348,  0.14578973,\n",
       "        0.62096214,  0.04218832,  0.97824264,  1.23783231, -1.10404575,\n",
       "        0.3291764 , -0.12902622, -1.23188281, -0.90210825,  0.13465267,\n",
       "        0.05729596,  0.77123833,  1.99950516, -0.41757616, -1.78402424,\n",
       "        0.74245608,  1.05298078, -0.1328844 , -0.74355841, -1.51309884,\n",
       "        0.06910595, -0.57213342,  1.10006011, -1.28764248,  0.76703882,\n",
       "        0.53879881,  0.13776033,  0.18252881,  0.38062963, -1.89946091,\n",
       "       -0.85409945, -0.76340842, -1.21462369,  1.64990151, -1.81508565,\n",
       "       -0.21748048, -0.65681165, -0.68591595,  1.02854466,  0.96568233,\n",
       "       -0.95905173,  0.41962743, -1.57281184, -1.78275812,  1.00396204,\n",
       "        1.98558247,  0.77802163,  1.20711708, -1.31701326,  0.41607332,\n",
       "       -2.80790591,  0.13011095,  0.27948576,  0.77906591, -0.48638988,\n",
       "        1.04273105,  1.15427029, -1.81727302, -1.26175547, -0.22610925,\n",
       "       -1.20137823,  0.68908238,  1.22634041, -0.38142219, -0.06590302,\n",
       "        0.68352205,  0.47641984,  0.16995634,  0.38412565, -1.65225232,\n",
       "       -0.51881099, -0.44296721,  1.51023209, -0.92785174, -0.50655115,\n",
       "        0.88580221,  0.90714049, -0.63619959,  1.01832771, -0.91353661,\n",
       "       -0.99892461,  1.17961144, -1.11000609, -0.4342654 , -0.54500121,\n",
       "       -0.13837713,  2.26099467, -1.68718576,  1.36784983,  1.57087791], dtype=float32)"
      ]
     },
     "execution_count": 71,
     "metadata": {},
     "output_type": "execute_result"
    }
   ],
   "source": [
    "zs = session.run(z)\n",
    "zs"
   ]
  },
  {
   "cell_type": "code",
   "execution_count": null,
   "metadata": {
    "collapsed": true
   },
   "outputs": [],
   "source": []
  }
 ],
 "metadata": {
  "kernelspec": {
   "display_name": "Python 3",
   "language": "python",
   "name": "python3"
  },
  "language_info": {
   "codemirror_mode": {
    "name": "ipython",
    "version": 3
   },
   "file_extension": ".py",
   "mimetype": "text/x-python",
   "name": "python",
   "nbconvert_exporter": "python",
   "pygments_lexer": "ipython3",
   "version": "3.6.1"
  }
 },
 "nbformat": 4,
 "nbformat_minor": 2
}
